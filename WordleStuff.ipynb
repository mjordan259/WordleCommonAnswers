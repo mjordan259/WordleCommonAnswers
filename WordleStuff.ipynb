{
 "cells": [
  {
   "cell_type": "code",
   "execution_count": 235,
   "metadata": {},
   "outputs": [],
   "source": [
    "import pandas as pd"
   ]
  },
  {
   "cell_type": "markdown",
   "metadata": {},
   "source": [
    "# Assessing Potential Answers"
   ]
  },
  {
   "cell_type": "markdown",
   "metadata": {},
   "source": [
    "All spreadsheets were created by Zach Wissner-Gross, who provided them via Google Sheets. (Links found here: https://fivethirtyeight.com/features/when-the-riddler-met-wordle/and via Jeremy Vine's Data is Plural mailing list.)"
   ]
  },
  {
   "cell_type": "code",
   "execution_count": 236,
   "metadata": {},
   "outputs": [],
   "source": [
    "answers = pd.read_csv('MysteryWords.csv', squeeze=True)"
   ]
  },
  {
   "cell_type": "code",
   "execution_count": 237,
   "metadata": {},
   "outputs": [
    {
     "data": {
      "text/plain": [
       "0    abase\n",
       "1    abate\n",
       "2    abbey\n",
       "3    abbot\n",
       "4    abhor\n",
       "Name: aback, dtype: object"
      ]
     },
     "execution_count": 237,
     "metadata": {},
     "output_type": "execute_result"
    }
   ],
   "source": [
    "answers.head()"
   ]
  },
  {
   "cell_type": "markdown",
   "metadata": {},
   "source": [
    "Of all potential answers, first I want to see what the most common vowels are, and the most common consonants."
   ]
  },
  {
   "cell_type": "code",
   "execution_count": 238,
   "metadata": {},
   "outputs": [],
   "source": [
    "allAnswers = ''.join(answers.tolist())"
   ]
  },
  {
   "cell_type": "code",
   "execution_count": 239,
   "metadata": {},
   "outputs": [],
   "source": [
    "all_freq = {}\n",
    "  \n",
    "for i in allAnswers:\n",
    "    if i in all_freq:\n",
    "        all_freq[i] += 1\n",
    "    else:\n",
    "        all_freq[i] = 1"
   ]
  },
  {
   "cell_type": "code",
   "execution_count": 240,
   "metadata": {},
   "outputs": [
    {
     "data": {
      "text/plain": [
       "{'a': 977,\n",
       " 'b': 280,\n",
       " 's': 669,\n",
       " 'e': 1233,\n",
       " 't': 729,\n",
       " 'y': 425,\n",
       " 'o': 754,\n",
       " 'h': 389,\n",
       " 'r': 899,\n",
       " 'i': 671,\n",
       " 'd': 393,\n",
       " 'l': 719,\n",
       " 'u': 467,\n",
       " 'v': 153,\n",
       " 'c': 476,\n",
       " 'n': 575,\n",
       " 'g': 311,\n",
       " 'p': 367,\n",
       " 'm': 316,\n",
       " 'f': 230,\n",
       " 'x': 37,\n",
       " 'w': 195,\n",
       " 'k': 209,\n",
       " 'z': 40,\n",
       " 'j': 27,\n",
       " 'q': 29}"
      ]
     },
     "execution_count": 240,
     "metadata": {},
     "output_type": "execute_result"
    }
   ],
   "source": [
    "all_freq"
   ]
  },
  {
   "cell_type": "code",
   "execution_count": 241,
   "metadata": {},
   "outputs": [],
   "source": [
    "allFreqDF = pd.DataFrame([all_freq])"
   ]
  },
  {
   "cell_type": "code",
   "execution_count": 242,
   "metadata": {},
   "outputs": [
    {
     "data": {
      "text/html": [
       "<div>\n",
       "<style scoped>\n",
       "    .dataframe tbody tr th:only-of-type {\n",
       "        vertical-align: middle;\n",
       "    }\n",
       "\n",
       "    .dataframe tbody tr th {\n",
       "        vertical-align: top;\n",
       "    }\n",
       "\n",
       "    .dataframe thead th {\n",
       "        text-align: right;\n",
       "    }\n",
       "</style>\n",
       "<table border=\"1\" class=\"dataframe\">\n",
       "  <thead>\n",
       "    <tr style=\"text-align: right;\">\n",
       "      <th></th>\n",
       "      <th>a</th>\n",
       "      <th>b</th>\n",
       "      <th>c</th>\n",
       "      <th>d</th>\n",
       "      <th>e</th>\n",
       "      <th>f</th>\n",
       "      <th>g</th>\n",
       "      <th>h</th>\n",
       "      <th>i</th>\n",
       "      <th>j</th>\n",
       "      <th>...</th>\n",
       "      <th>q</th>\n",
       "      <th>r</th>\n",
       "      <th>s</th>\n",
       "      <th>t</th>\n",
       "      <th>u</th>\n",
       "      <th>v</th>\n",
       "      <th>w</th>\n",
       "      <th>x</th>\n",
       "      <th>y</th>\n",
       "      <th>z</th>\n",
       "    </tr>\n",
       "  </thead>\n",
       "  <tbody>\n",
       "    <tr>\n",
       "      <th>0</th>\n",
       "      <td>977</td>\n",
       "      <td>280</td>\n",
       "      <td>476</td>\n",
       "      <td>393</td>\n",
       "      <td>1233</td>\n",
       "      <td>230</td>\n",
       "      <td>311</td>\n",
       "      <td>389</td>\n",
       "      <td>671</td>\n",
       "      <td>27</td>\n",
       "      <td>...</td>\n",
       "      <td>29</td>\n",
       "      <td>899</td>\n",
       "      <td>669</td>\n",
       "      <td>729</td>\n",
       "      <td>467</td>\n",
       "      <td>153</td>\n",
       "      <td>195</td>\n",
       "      <td>37</td>\n",
       "      <td>425</td>\n",
       "      <td>40</td>\n",
       "    </tr>\n",
       "  </tbody>\n",
       "</table>\n",
       "<p>1 rows × 26 columns</p>\n",
       "</div>"
      ],
      "text/plain": [
       "     a    b    c    d     e    f    g    h    i   j  ...   q    r    s    t  \\\n",
       "0  977  280  476  393  1233  230  311  389  671  27  ...  29  899  669  729   \n",
       "\n",
       "     u    v    w   x    y   z  \n",
       "0  467  153  195  37  425  40  \n",
       "\n",
       "[1 rows x 26 columns]"
      ]
     },
     "execution_count": 242,
     "metadata": {},
     "output_type": "execute_result"
    }
   ],
   "source": [
    "allFreqDF"
   ]
  },
  {
   "cell_type": "code",
   "execution_count": 243,
   "metadata": {},
   "outputs": [],
   "source": [
    "vowels = allFreqDF[[\"a\",\"e\",\"i\",\"o\",\"u\"]]"
   ]
  },
  {
   "cell_type": "code",
   "execution_count": 244,
   "metadata": {},
   "outputs": [
    {
     "data": {
      "text/html": [
       "<div>\n",
       "<style scoped>\n",
       "    .dataframe tbody tr th:only-of-type {\n",
       "        vertical-align: middle;\n",
       "    }\n",
       "\n",
       "    .dataframe tbody tr th {\n",
       "        vertical-align: top;\n",
       "    }\n",
       "\n",
       "    .dataframe thead th {\n",
       "        text-align: right;\n",
       "    }\n",
       "</style>\n",
       "<table border=\"1\" class=\"dataframe\">\n",
       "  <thead>\n",
       "    <tr style=\"text-align: right;\">\n",
       "      <th></th>\n",
       "      <th>e</th>\n",
       "      <th>a</th>\n",
       "      <th>o</th>\n",
       "      <th>i</th>\n",
       "      <th>u</th>\n",
       "    </tr>\n",
       "  </thead>\n",
       "  <tbody>\n",
       "    <tr>\n",
       "      <th>0</th>\n",
       "      <td>1233</td>\n",
       "      <td>977</td>\n",
       "      <td>754</td>\n",
       "      <td>671</td>\n",
       "      <td>467</td>\n",
       "    </tr>\n",
       "  </tbody>\n",
       "</table>\n",
       "</div>"
      ],
      "text/plain": [
       "      e    a    o    i    u\n",
       "0  1233  977  754  671  467"
      ]
     },
     "execution_count": 244,
     "metadata": {},
     "output_type": "execute_result"
    }
   ],
   "source": [
    "vowels.sort_values(by=0, ascending=False, axis=1)"
   ]
  },
  {
   "cell_type": "code",
   "execution_count": 245,
   "metadata": {},
   "outputs": [],
   "source": [
    "consonants = allFreqDF.drop([\"a\",\"e\",\"i\",\"o\",\"u\"],axis=1)"
   ]
  },
  {
   "cell_type": "code",
   "execution_count": 246,
   "metadata": {},
   "outputs": [
    {
     "data": {
      "text/html": [
       "<div>\n",
       "<style scoped>\n",
       "    .dataframe tbody tr th:only-of-type {\n",
       "        vertical-align: middle;\n",
       "    }\n",
       "\n",
       "    .dataframe tbody tr th {\n",
       "        vertical-align: top;\n",
       "    }\n",
       "\n",
       "    .dataframe thead th {\n",
       "        text-align: right;\n",
       "    }\n",
       "</style>\n",
       "<table border=\"1\" class=\"dataframe\">\n",
       "  <thead>\n",
       "    <tr style=\"text-align: right;\">\n",
       "      <th></th>\n",
       "      <th>r</th>\n",
       "      <th>t</th>\n",
       "      <th>l</th>\n",
       "      <th>s</th>\n",
       "      <th>n</th>\n",
       "      <th>c</th>\n",
       "      <th>y</th>\n",
       "      <th>d</th>\n",
       "      <th>h</th>\n",
       "      <th>p</th>\n",
       "      <th>...</th>\n",
       "      <th>g</th>\n",
       "      <th>b</th>\n",
       "      <th>f</th>\n",
       "      <th>k</th>\n",
       "      <th>w</th>\n",
       "      <th>v</th>\n",
       "      <th>z</th>\n",
       "      <th>x</th>\n",
       "      <th>q</th>\n",
       "      <th>j</th>\n",
       "    </tr>\n",
       "  </thead>\n",
       "  <tbody>\n",
       "    <tr>\n",
       "      <th>0</th>\n",
       "      <td>899</td>\n",
       "      <td>729</td>\n",
       "      <td>719</td>\n",
       "      <td>669</td>\n",
       "      <td>575</td>\n",
       "      <td>476</td>\n",
       "      <td>425</td>\n",
       "      <td>393</td>\n",
       "      <td>389</td>\n",
       "      <td>367</td>\n",
       "      <td>...</td>\n",
       "      <td>311</td>\n",
       "      <td>280</td>\n",
       "      <td>230</td>\n",
       "      <td>209</td>\n",
       "      <td>195</td>\n",
       "      <td>153</td>\n",
       "      <td>40</td>\n",
       "      <td>37</td>\n",
       "      <td>29</td>\n",
       "      <td>27</td>\n",
       "    </tr>\n",
       "  </tbody>\n",
       "</table>\n",
       "<p>1 rows × 21 columns</p>\n",
       "</div>"
      ],
      "text/plain": [
       "     r    t    l    s    n    c    y    d    h    p  ...    g    b    f    k  \\\n",
       "0  899  729  719  669  575  476  425  393  389  367  ...  311  280  230  209   \n",
       "\n",
       "     w    v   z   x   q   j  \n",
       "0  195  153  40  37  29  27  \n",
       "\n",
       "[1 rows x 21 columns]"
      ]
     },
     "execution_count": 246,
     "metadata": {},
     "output_type": "execute_result"
    }
   ],
   "source": [
    "consonants.sort_values(by=0, ascending=False, axis=1)"
   ]
  },
  {
   "cell_type": "markdown",
   "metadata": {},
   "source": [
    "So now we know that the two most common vowels are e and a, and the four most common consonants are r,t,l and s. (Numbers chosen somewhat at random, but on the theory that every word is going to have at least 1 vowel/4 consonants, and maybe 2 vowels/3 consonants."
   ]
  },
  {
   "cell_type": "code",
   "execution_count": 247,
   "metadata": {},
   "outputs": [],
   "source": [
    "answersDF = []\n",
    "answersDF = pd.DataFrame(answersDF, columns=['words'])\n",
    "answersDF[\"words\"] = answers"
   ]
  },
  {
   "cell_type": "code",
   "execution_count": 248,
   "metadata": {},
   "outputs": [],
   "source": [
    "answersDF[\"commonality_score\"] = 0"
   ]
  },
  {
   "cell_type": "markdown",
   "metadata": {},
   "source": [
    "Next we'll assign a commonality score, to find out which words have the most common letters."
   ]
  },
  {
   "cell_type": "code",
   "execution_count": 249,
   "metadata": {},
   "outputs": [],
   "source": [
    "for index,row in answersDF.iterrows():\n",
    "    current_word = str(row['words'])\n",
    "        \n",
    "    if 'a' in current_word:\n",
    "        answersDF.at[index, 'commonality_score'] = answersDF.at[index, 'commonality_score'] + 1\n",
    "        \n",
    "    if 'e' in current_word:\n",
    "        answersDF.at[index, 'commonality_score'] = answersDF.at[index, 'commonality_score'] + 1\n",
    "        \n",
    "    if 'r' in current_word:\n",
    "        answersDF.at[index, 'commonality_score'] = answersDF.at[index, 'commonality_score'] + 1\n",
    "    \n",
    "    if 't' in current_word:\n",
    "        answersDF.at[index, 'commonality_score'] = answersDF.at[index, 'commonality_score'] + 1\n",
    "        \n",
    "    if 'l' in current_word:\n",
    "        answersDF.at[index, 'commonality_score'] = answersDF.at[index, 'commonality_score'] + 1\n",
    "        \n",
    "    if 's' in current_word:\n",
    "        answersDF.at[index, 'commonality_score'] = answersDF.at[index, 'commonality_score'] + 1\n",
    "        \n"
   ]
  },
  {
   "cell_type": "code",
   "execution_count": 250,
   "metadata": {},
   "outputs": [
    {
     "data": {
      "text/html": [
       "<div>\n",
       "<style scoped>\n",
       "    .dataframe tbody tr th:only-of-type {\n",
       "        vertical-align: middle;\n",
       "    }\n",
       "\n",
       "    .dataframe tbody tr th {\n",
       "        vertical-align: top;\n",
       "    }\n",
       "\n",
       "    .dataframe thead th {\n",
       "        text-align: right;\n",
       "    }\n",
       "</style>\n",
       "<table border=\"1\" class=\"dataframe\">\n",
       "  <thead>\n",
       "    <tr style=\"text-align: right;\">\n",
       "      <th></th>\n",
       "      <th>words</th>\n",
       "      <th>commonality_score</th>\n",
       "    </tr>\n",
       "  </thead>\n",
       "  <tbody>\n",
       "    <tr>\n",
       "      <th>66</th>\n",
       "      <td>alter</td>\n",
       "      <td>5</td>\n",
       "    </tr>\n",
       "    <tr>\n",
       "      <th>1776</th>\n",
       "      <td>slate</td>\n",
       "      <td>5</td>\n",
       "    </tr>\n",
       "    <tr>\n",
       "      <th>1901</th>\n",
       "      <td>stale</td>\n",
       "      <td>5</td>\n",
       "    </tr>\n",
       "    <tr>\n",
       "      <th>47</th>\n",
       "      <td>alert</td>\n",
       "      <td>5</td>\n",
       "    </tr>\n",
       "    <tr>\n",
       "      <th>1101</th>\n",
       "      <td>later</td>\n",
       "      <td>5</td>\n",
       "    </tr>\n",
       "    <tr>\n",
       "      <th>1907</th>\n",
       "      <td>stare</td>\n",
       "      <td>5</td>\n",
       "    </tr>\n",
       "    <tr>\n",
       "      <th>1915</th>\n",
       "      <td>steal</td>\n",
       "      <td>5</td>\n",
       "    </tr>\n",
       "    <tr>\n",
       "      <th>1114</th>\n",
       "      <td>least</td>\n",
       "      <td>5</td>\n",
       "    </tr>\n",
       "    <tr>\n",
       "      <th>1914</th>\n",
       "      <td>steak</td>\n",
       "      <td>4</td>\n",
       "    </tr>\n",
       "    <tr>\n",
       "      <th>1909</th>\n",
       "      <td>start</td>\n",
       "      <td>4</td>\n",
       "    </tr>\n",
       "  </tbody>\n",
       "</table>\n",
       "</div>"
      ],
      "text/plain": [
       "      words  commonality_score\n",
       "66    alter                  5\n",
       "1776  slate                  5\n",
       "1901  stale                  5\n",
       "47    alert                  5\n",
       "1101  later                  5\n",
       "1907  stare                  5\n",
       "1915  steal                  5\n",
       "1114  least                  5\n",
       "1914  steak                  4\n",
       "1909  start                  4"
      ]
     },
     "execution_count": 250,
     "metadata": {},
     "output_type": "execute_result"
    }
   ],
   "source": [
    "answersDF.sort_values(by=['commonality_score'],ascending=False).head(10)"
   ]
  },
  {
   "cell_type": "markdown",
   "metadata": {},
   "source": [
    "And so we get a working list of the words that are most likely to have common letters!"
   ]
  }
 ],
 "metadata": {
  "kernelspec": {
   "display_name": "Python 3",
   "language": "python",
   "name": "python3"
  },
  "language_info": {
   "codemirror_mode": {
    "name": "ipython",
    "version": 3
   },
   "file_extension": ".py",
   "mimetype": "text/x-python",
   "name": "python",
   "nbconvert_exporter": "python",
   "pygments_lexer": "ipython3",
   "version": "3.6.8"
  }
 },
 "nbformat": 4,
 "nbformat_minor": 2
}
